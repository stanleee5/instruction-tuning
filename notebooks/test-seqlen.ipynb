{
 "cells": [
  {
   "cell_type": "markdown",
   "metadata": {},
   "source": [
    "## Sequence-Length Dataset"
   ]
  },
  {
   "cell_type": "code",
   "execution_count": 1,
   "metadata": {},
   "outputs": [
    {
     "name": "stdout",
     "output_type": "stream",
     "text": [
      "A\n"
     ]
    }
   ],
   "source": [
    "import numpy as np\n",
    "from transformers import AutoTokenizer\n",
    "from datasets import Dataset, load_from_disk\n",
    "\n",
    "tokenizer = AutoTokenizer.from_pretrained(\"codellama/CodeLlama-13b-hf\")\n",
    "tokenizer.pad_token = tokenizer.eos_token\n",
    "\n",
    "token_id = 319 # depends on tokenizer\n",
    "print(tokenizer.decode(token_id))"
   ]
  },
  {
   "cell_type": "code",
   "execution_count": 2,
   "metadata": {},
   "outputs": [
    {
     "name": "stdout",
     "output_type": "stream",
     "text": [
      "../dataset/DEBUG_N512_L16384\n"
     ]
    },
    {
     "data": {
      "application/vnd.jupyter.widget-view+json": {
       "model_id": "c5d2d110fce14850ad794029b906666d",
       "version_major": 2,
       "version_minor": 0
      },
      "text/plain": [
       "Saving the dataset (0/1 shards):   0%|          | 0/512 [00:00<?, ? examples/s]"
      ]
     },
     "metadata": {},
     "output_type": "display_data"
    },
    {
     "data": {
      "application/vnd.jupyter.widget-view+json": {
       "model_id": "a34033b9c77c4384a79499b75047428a",
       "version_major": 2,
       "version_minor": 0
      },
      "text/plain": [
       "Saving the dataset (0/1 shards):   0%|          | 0/512 [00:00<?, ? examples/s]"
      ]
     },
     "metadata": {},
     "output_type": "display_data"
    },
    {
     "name": "stdout",
     "output_type": "stream",
     "text": [
      "DatasetDict({\n",
      "    train: Dataset({\n",
      "        features: ['instruction', 'output', 'text'],\n",
      "        num_rows: 512\n",
      "    })\n",
      "    test: Dataset({\n",
      "        features: ['instruction', 'output', 'text'],\n",
      "        num_rows: 512\n",
      "    })\n",
      "})\n",
      "instruction (512, 8193)\n",
      "output (512, 8193)\n",
      "text (512, 16385)\n"
     ]
    }
   ],
   "source": [
    "N = 512   # for train / test\n",
    "L = 16384 # for instruction + response\n",
    "\n",
    "ds_path = f\"../dataset/DEBUG_N{N}_L{L}\"\n",
    "print(ds_path)\n",
    "\n",
    "instructions = np.ones((N * 2, L // 2), dtype=np.int32) * token_id\n",
    "outputs = np.ones((N * 2, L // 2), dtype=np.int32) * token_id\n",
    "texts = np.ones((N * 2, L), dtype=np.int32) * token_id\n",
    "\n",
    "instruction_texts = tokenizer.batch_decode(instructions)\n",
    "output_texts = tokenizer.batch_decode(outputs)\n",
    "texts = tokenizer.batch_decode(texts)\n",
    "\n",
    "data = dict(instruction=instruction_texts, output=output_texts, text=texts)\n",
    "ds = Dataset.from_dict(data).train_test_split(test_size=N)\n",
    "ds.save_to_disk(ds_path)\n",
    "\n",
    "# check from disk\n",
    "ds = load_from_disk(ds_path)\n",
    "print(ds)\n",
    "\n",
    "for key in [\"instruction\", \"output\", \"text\"]:\n",
    "    inputs = tokenizer(ds[\"train\"][key], padding=\"longest\")\n",
    "    print(key, np.array(inputs[\"input_ids\"]).shape)"
   ]
  },
  {
   "cell_type": "code",
   "execution_count": null,
   "metadata": {},
   "outputs": [],
   "source": []
  }
 ],
 "metadata": {
  "kernelspec": {
   "display_name": "base",
   "language": "python",
   "name": "python3"
  },
  "language_info": {
   "codemirror_mode": {
    "name": "ipython",
    "version": 3
   },
   "file_extension": ".py",
   "mimetype": "text/x-python",
   "name": "python",
   "nbconvert_exporter": "python",
   "pygments_lexer": "ipython3",
   "version": "3.10.9"
  }
 },
 "nbformat": 4,
 "nbformat_minor": 2
}
